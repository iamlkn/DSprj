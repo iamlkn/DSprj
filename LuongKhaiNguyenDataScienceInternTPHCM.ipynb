{
 "cells": [
  {
   "cell_type": "markdown",
   "id": "a3c9c740-741b-41e0-a784-c0df83f9e8ae",
   "metadata": {},
   "source": [
    "## Họ và tên: Lương Khải Nguyên"
   ]
  },
  {
   "cell_type": "markdown",
   "id": "b0a54158-747d-4dc9-bb89-ce84fc7a5b7a",
   "metadata": {},
   "source": [
    "# **1. Giới Thiệu**"
   ]
  },
  {
   "cell_type": "markdown",
   "id": "3775aab2-2ed8-4d0f-80f8-35db56b2a0a5",
   "metadata": {},
   "source": [
    "- **Bối cảnh bài toán:**\n",
    "\n",
    "    Dữ liệu gồm các cột:\n",
    "    - `Ticker`: Mã cố phiếu (FPT, MSN, PNJ, và VIC).\n",
    "    - `Date/Time`: Thời gian (`%m/%d/%Y %H:%M`).\n",
    "    - `Open`: Giá mở cửa.\n",
    "    - `High`: Giá cao nhất.\n",
    "    - `Low`: Gía thấp nhất.\n",
    "    - `Close`: Giá đóng cửa.\n",
    "    - `Volume`: Khối lượng giao dịch.\n",
    "    - `Open Interest`: Số hợp đồng mở (nếu có).\n",
    "\n",
    "\n",
    "- **Mục tiêu:**\n",
    "\n",
    "    Xây dựng mô hình dự đoán biến động giá cổ phiếu, biết công thức:\n",
    "\n",
    "  \n",
    "    `Biến động giá = Giá cổ phiếu 5 phút - Giá cổ phiếu hiện tại`."
   ]
  },
  {
   "cell_type": "markdown",
   "id": "c8606b32-147e-48b3-8a09-438a649e1e32",
   "metadata": {},
   "source": [
    "# **2. Thư Viện Cần Thiết**"
   ]
  },
  {
   "cell_type": "code",
   "execution_count": 4,
   "id": "2c32d989-0a6c-40af-88c9-7e8915407109",
   "metadata": {},
   "outputs": [],
   "source": [
    "import pandas as pd\n",
    "import matplotlib.pyplot as plt\n",
    "import seaborn as sns\n",
    "import plotly.graph_objects as go\n",
    "import mplfinance as mpf\n",
    "from IPython.display import display\n",
    "from sklearn.model_selection import train_test_split\n",
    "from sklearn.linear_model import LinearRegression\n",
    "from sklearn.metrics import mean_absolute_error, mean_squared_error\n",
    "from sklearn.model_selection import TimeSeriesSplit, GridSearchCV\n",
    "from sklearn.preprocessing import LabelEncoder\n",
    "from sklearn.ensemble import HistGradientBoostingRegressor\n",
    "from sklearn.ensemble import StackingRegressor\n",
    "import xgboost as xgb\n",
    "import plotly.graph_objects as go"
   ]
  },
  {
   "cell_type": "markdown",
   "id": "98ae390c-09b6-4b67-bb0a-8a831376456a",
   "metadata": {},
   "source": [
    "# **3. Tiền Xử Lý Dữ Liệu**"
   ]
  },
  {
   "cell_type": "markdown",
   "id": "b8e30c42-a1ef-4012-bf7b-9b04953ab72c",
   "metadata": {},
   "source": [
    "## 3.1 Đọc và kiểm tra dữ liệu "
   ]
  },
  {
   "cell_type": "markdown",
   "id": "24ef88f3-c6d6-45dd-9984-d39b4ca4208b",
   "metadata": {},
   "source": [
    "Ta được cho 4 tập dữ liệu về cổ phiếu của 4 công ty lần lượt là: FPT, MSN, PNJ và VIC. Ta tiến hành gộp thành 1 tập dữ liệu để tiện cho việc xử lý."
   ]
  },
  {
   "cell_type": "code",
   "execution_count": 8,
   "id": "2a8373d9-2084-46d1-bd23-fa01fb9768a3",
   "metadata": {},
   "outputs": [
    {
     "name": "stdout",
     "output_type": "stream",
     "text": [
      "<class 'pandas.core.frame.DataFrame'>\n",
      "RangeIndex: 459335 entries, 0 to 459334\n",
      "Data columns (total 8 columns):\n",
      " #   Column         Non-Null Count   Dtype  \n",
      "---  ------         --------------   -----  \n",
      " 0   Ticker         459335 non-null  object \n",
      " 1   Date/Time      459335 non-null  object \n",
      " 2   Open           459335 non-null  float64\n",
      " 3   High           459335 non-null  float64\n",
      " 4   Low            459335 non-null  float64\n",
      " 5   Close          459335 non-null  float64\n",
      " 6   Volume         459335 non-null  int64  \n",
      " 7   Open Interest  459335 non-null  int64  \n",
      "dtypes: float64(4), int64(2), object(2)\n",
      "memory usage: 28.0+ MB\n",
      "None\n",
      "  Ticker        Date/Time   Open   High    Low  Close  Volume  Open Interest\n",
      "0    FPT  12/25/2018 9:15  30.89  30.89  30.89  30.89   35410              0\n",
      "1    FPT  12/25/2018 9:16  30.81  30.81  30.81  30.81     190              0\n",
      "2    FPT  12/25/2018 9:17  30.74  30.81  30.74  30.74    1120              0\n",
      "3    FPT  12/25/2018 9:18  30.74  30.74  30.74  30.74    2120              0\n",
      "4    FPT  12/25/2018 9:19  30.74  30.74  30.74  30.74   22500              0\n"
     ]
    }
   ],
   "source": [
    "df_fpt = pd.read_csv('FPT.csv')\n",
    "df_msn = pd.read_csv('MSN.csv')\n",
    "df_pnj = pd.read_csv('PNJ.csv')\n",
    "df_vic = pd.read_csv('VIC.csv')\n",
    "\n",
    "df = pd.concat([df_fpt, df_msn, df_pnj, df_vic], ignore_index=True)\n",
    "\n",
    "print(df.info())\n",
    "print(df.head())"
   ]
  },
  {
   "cell_type": "markdown",
   "id": "20ef4416-fa7e-46f1-8837-6de6952f6df1",
   "metadata": {},
   "source": [
    "Sau khi đọc `info` của các tập dữ liệu trên ta có thể thấy được dữ liệu không có giá trị `null`."
   ]
  },
  {
   "cell_type": "markdown",
   "id": "8a347847-fa3e-4451-963f-d1eb723ef7c4",
   "metadata": {},
   "source": [
    "## 3.2 Chuyển đổi kiểu dữ liệu"
   ]
  },
  {
   "cell_type": "markdown",
   "id": "9ec70dc3-aea2-4759-9fd7-2b6443dbb5c3",
   "metadata": {},
   "source": [
    "Ta thấy cột `Date/Time` là chỉ thời gian và có định dạng `%m/%d/%Y %H:%M` nhưng lại có kiểu dữ liệu là `object` ta cần chuyển đổi kiểu dữ liệu sang dạng `datetime`."
   ]
  },
  {
   "cell_type": "code",
   "execution_count": 12,
   "id": "ad678555-4264-48f6-974a-c76cb08eb49b",
   "metadata": {},
   "outputs": [
    {
     "name": "stdout",
     "output_type": "stream",
     "text": [
      "<class 'pandas.core.frame.DataFrame'>\n",
      "RangeIndex: 459335 entries, 0 to 459334\n",
      "Data columns (total 8 columns):\n",
      " #   Column         Non-Null Count   Dtype         \n",
      "---  ------         --------------   -----         \n",
      " 0   Ticker         459335 non-null  object        \n",
      " 1   Date/Time      459335 non-null  datetime64[ns]\n",
      " 2   Open           459335 non-null  float64       \n",
      " 3   High           459335 non-null  float64       \n",
      " 4   Low            459335 non-null  float64       \n",
      " 5   Close          459335 non-null  float64       \n",
      " 6   Volume         459335 non-null  int64         \n",
      " 7   Open Interest  459335 non-null  int64         \n",
      "dtypes: datetime64[ns](1), float64(4), int64(2), object(1)\n",
      "memory usage: 28.0+ MB\n",
      "None\n"
     ]
    }
   ],
   "source": [
    "df['Date/Time'] = pd.to_datetime(df['Date/Time'], format='%m/%d/%Y %H:%M')\n",
    "print(df.info())"
   ]
  },
  {
   "cell_type": "code",
   "execution_count": 13,
   "id": "8f7182b1-d172-4e2b-acfc-2341df890345",
   "metadata": {},
   "outputs": [
    {
     "name": "stdout",
     "output_type": "stream",
     "text": [
      "0        2018-12-25 09:15:00\n",
      "1        2018-12-25 09:16:00\n",
      "2        2018-12-25 09:17:00\n",
      "3        2018-12-25 09:18:00\n",
      "4        2018-12-25 09:19:00\n",
      "                 ...        \n",
      "459330   2020-12-22 14:22:00\n",
      "459331   2020-12-22 14:23:00\n",
      "459332   2020-12-22 14:24:00\n",
      "459333   2020-12-22 14:25:00\n",
      "459334   2020-12-22 14:46:00\n",
      "Name: Date/Time, Length: 459335, dtype: datetime64[ns]\n"
     ]
    }
   ],
   "source": [
    "print(df['Date/Time'])"
   ]
  },
  {
   "cell_type": "markdown",
   "id": "a35f8f39-8d0b-46bc-87fd-e604d14a3538",
   "metadata": {},
   "source": [
    "# **4. Khám Phá Dữ Liệu (EDA)**"
   ]
  },
  {
   "cell_type": "markdown",
   "id": "7f8407f4-6c3c-4784-a84f-6b7d1a3a45aa",
   "metadata": {},
   "source": [
    "## 4.1 Thống kê mô tả"
   ]
  },
  {
   "cell_type": "markdown",
   "id": "bdcf48f2-da03-4b6a-bc58-cf99c83f90df",
   "metadata": {},
   "source": [
    "Vì có 4 loại cổ phiếu nên ta thống kê mô tả trên từng loại cổ phiếu khác nhau."
   ]
  },
  {
   "cell_type": "code",
   "execution_count": 17,
   "id": "59c9cfe1-a79c-4601-86ed-e96cbe8cd4a8",
   "metadata": {},
   "outputs": [
    {
     "name": "stdout",
     "output_type": "stream",
     "text": [
      "                           Date/Time          Open          High  \\\n",
      "count                          97406  97406.000000  97406.000000   \n",
      "mean   2020-01-21 05:08:51.739112192     45.071630     45.090138   \n",
      "min              2018-12-25 09:15:00     30.250000     30.250000   \n",
      "25%              2019-08-06 11:06:15     39.740000     39.740000   \n",
      "50%              2020-01-31 10:37:30     46.950000     46.950000   \n",
      "75%              2020-07-14 09:54:45     49.200000     49.250000   \n",
      "max              2020-12-22 14:46:00     58.400000     58.500000   \n",
      "std                              NaN      6.359803      6.364950   \n",
      "\n",
      "                Low         Close        Volume  Open Interest  \n",
      "count  97406.000000  97406.000000  9.740600e+04        97406.0  \n",
      "mean      45.051430     45.071631  8.044173e+03            0.0  \n",
      "min       30.220000     30.250000  1.000000e+01            0.0  \n",
      "25%       39.700000     39.740000  7.500000e+02            0.0  \n",
      "50%       46.950000     46.950000  2.960000e+03            0.0  \n",
      "75%       49.170000     49.200000  8.960000e+03            0.0  \n",
      "max       58.400000     58.400000  1.255930e+06            0.0  \n",
      "std        6.354245      6.359799  1.753203e+04            0.0  \n"
     ]
    }
   ],
   "source": [
    "print(df[df['Ticker'] == 'FPT'].describe())"
   ]
  },
  {
   "cell_type": "markdown",
   "id": "1b2e557a-8d91-481a-8479-79875f4f50f1",
   "metadata": {},
   "source": [
    "**1. Cổ phiếu FPT:**\n",
    "\n",
    "**Bản ghi:**  \n",
    "- Có tổng cộng 97.406 giao dịch.\n",
    "\n",
    "**Thời gian giao dịch (Date/Time):**  \n",
    "- **Giá trị trung bình:** Khoảng 21/01/2020 05:08:51  \n",
    "- **Khoảng thời gian:**  \n",
    "  - **Min:** 25/12/2018  \n",
    "  - **Max:** 22/12/2020  \n",
    "- **Phân vị:**  \n",
    "  - 25%: 06/08/2019 11:06:15  \n",
    "  - 50% (median): 31/01/2020 10:37:30  \n",
    "  - 75%: 14/07/2020 09:54:45  \n",
    "Điều này cho biết dữ liệu giao dịch trải dài khá đều trong khoảng thời gian đã cho.\n",
    "\n",
    "**Các biến giá (Open, High, Low, Close):**  \n",
    "- **Giá trị trung bình:**  \n",
    "  - Open: 45.07  \n",
    "  - High: 45.09  \n",
    "  - Low: 45.05  \n",
    "  - Close: 45.07  \n",
    "- **Khoảng giá:**  \n",
    "  - **Min:** 30.25  \n",
    "  - **Max:** 58.40 (Open) / 58.50 (High)  \n",
    "- **Phân vị:**  \n",
    "  - 25%: Khoảng 39.74  \n",
    "  - 50% (median): 46.95  \n",
    "  - 75%: Khoảng 49.20  \n",
    "- **Độ lệch chuẩn:** Xấp xỉ 6.36 cho tất cả các biến giá  \n",
    "Kết quả này cho thấy phần lớn các giao dịch có mức giá giao động từ khoảng 40 đến 50, với mức biến động (volatility) trung bình quanh 6.36 đơn vị so với giá trung bình.\n",
    "\n",
    "**Volume (Khối lượng giao dịch):**  \n",
    "- **Giá trị trung bình:** 8.044,17  \n",
    "- **Độ lệch chuẩn:** Rất cao, khoảng 17.532,03  \n",
    "- **Phân vị:**  \n",
    "  - 25%: 750  \n",
    "  - 50% (median): 2.960  \n",
    "  - 75%: 8.960  \n",
    "- **Khoảng giá:**  \n",
    "  - **Min:** 10  \n",
    "  - **Max:** 1.255.930  \n",
    "Điều này cho thấy khối lượng giao dịch có sự phân bố lệch phải (right-skewed): phần lớn giao dịch có khối lượng thấp đến trung bình, nhưng tồn tại một số giao dịch với khối lượng rất lớn.\n",
    "\n",
    "**Open Interest:**  \n",
    "- Tất cả các giá trị đều bằng 0, cho thấy biến này không thay đổi và có thể không hữu ích cho việc phân tích mô hình (hoặc dữ liệu này không được cập nhật)."
   ]
  },
  {
   "cell_type": "code",
   "execution_count": 19,
   "id": "463f6046-0881-431f-a075-c6a98ef1d33b",
   "metadata": {},
   "outputs": [
    {
     "name": "stdout",
     "output_type": "stream",
     "text": [
      "                           Date/Time           Open           High  \\\n",
      "count                         135354  135354.000000  135354.000000   \n",
      "mean   2019-07-30 01:41:35.644310528      74.878809      74.931668   \n",
      "min              2017-12-25 09:15:00      46.500000      46.500000   \n",
      "25%              2018-10-16 13:15:15      57.900000      57.900000   \n",
      "50%              2019-08-26 10:44:30      79.100000      79.200000   \n",
      "75%              2020-05-12 13:20:45      86.000000      86.100000   \n",
      "max              2020-12-22 14:46:00     117.800000     118.000000   \n",
      "std                              NaN      15.418074      15.426954   \n",
      "\n",
      "                 Low          Close        Volume  Open Interest  \n",
      "count  135354.000000  135354.000000  1.353540e+05       135354.0  \n",
      "mean       74.834625      74.880759  5.683578e+03            0.0  \n",
      "min        46.400000      46.400000  1.000000e+01            0.0  \n",
      "25%        57.800000      57.800000  5.000000e+02            0.0  \n",
      "50%        79.100000      79.100000  2.000000e+03            0.0  \n",
      "75%        86.000000      86.000000  5.560000e+03            0.0  \n",
      "max       117.700000     118.000000  3.300680e+06            0.0  \n",
      "std        15.412677      15.418857  2.798513e+04            0.0  \n"
     ]
    }
   ],
   "source": [
    "print(df[df['Ticker'] == 'MSN'].describe())"
   ]
  },
  {
   "cell_type": "markdown",
   "id": "aaf093bc-bdca-4306-b06c-ffd45f6baf68",
   "metadata": {},
   "source": [
    "**2. Cổ phiếu MSN:**\n",
    "\n",
    "**Bản ghi:**  \n",
    "  - Tổng số giao dịch: **135,354** bản ghi.\n",
    "\n",
    "**Thời gian giao dịch (Date/Time):**  \n",
    "  - **Giá trị trung bình:** Khoảng **2019-07-30 01:41:35**, cho thấy thời điểm giao dịch trung bình rơi vào giữa khoảng thời gian thu thập.  \n",
    "  - **Khoảng thời gian:**  \n",
    "    - **Bắt đầu:** 2017-12-25 09:15:00  \n",
    "    - **Kết thúc:** 2020-12-22 14:46:00  \n",
    "  - **Phân vị thời gian:**  \n",
    "    - **25%:** 2018-10-16 13:15:15  \n",
    "    - **50% (median):** 2019-08-26 10:44:30  \n",
    "    - **75%:** 2020-05-12 13:20:45  \n",
    "  Điều này cho thấy dữ liệu giao dịch được thu thập liên tục trong khoảng từ cuối năm 2017 đến cuối năm 2020, với phân bố thời gian khá đều.\n",
    "\n",
    "**Các biến giá (Open, High, Low, Close):**  \n",
    "  - **Giá trị trung bình:**  \n",
    "    - Open: **74.88**  \n",
    "    - High: **74.93**  \n",
    "    - Low: **74.83**  \n",
    "    - Close: **74.88**  \n",
    "  - **Khoảng giá:**  \n",
    "    - **Giá thấp nhất:** Khoảng **46.4 – 46.5**  \n",
    "    - **Giá cao nhất:** Khoảng **117.8 – 118.0**  \n",
    "  - **Phân vị:**  \n",
    "    - **25%:** Khoảng **57.8 – 57.9**  \n",
    "    - **50% (median):** Khoảng **79.1 – 79.2**  \n",
    "    - **75%:** Khoảng **86.0 – 86.1**  \n",
    "  - **Độ lệch chuẩn:** Xấp xỉ **15.42** cho tất cả các biến giá.  \n",
    "  Điều này cho thấy các mức giá giao dịch có xu hướng tập trung quanh mức trung bình (khoảng 74-75) với mức biến động tương đối đồng nhất. Phân vị rõ ràng từ 25% đến 75% cho thấy sự thay đổi giá trong mỗi phiên giao dịch khá ổn định.\n",
    "\n",
    "**Khối lượng giao dịch (Volume):**  \n",
    "  - **Giá trị trung bình:** **5,683.58**  \n",
    "  - **Khoảng giao dịch:**  \n",
    "    - **Min:** 10  \n",
    "    - **Max:** 3,300,680  \n",
    "  - **Phân vị:**  \n",
    "    - **25%:** 500  \n",
    "    - **50% (median):** 2,000  \n",
    "    - **75%:** 5,560  \n",
    "  - **Độ lệch chuẩn:** Xấp xỉ **27,985.13**  \n",
    "  Điều này cho thấy khối lượng giao dịch phân bố lệch phải: phần lớn các giao dịch có khối lượng từ thấp đến trung bình, nhưng tồn tại một số giao dịch có khối lượng cực lớn, kéo độ lệch chuẩn lên mức rất cao.\n",
    "\n",
    "**Open Interest:**  \n",
    "  - Tất cả các bản ghi đều có giá trị bằng **0**, cho thấy feature này không có giá trị sử dụng cho các phân tích sâu hơn hoặc mô hình dự đoán.\n",
    "\n",
    "Bạn có thể copy đoạn Markdown trên vào Jupyter Notebook để trình bày kết quả phân tích một cách rõ ràng và chuyên nghiệp."
   ]
  },
  {
   "cell_type": "code",
   "execution_count": 21,
   "id": "295722d1-dfa2-439c-a8a5-1bded130782b",
   "metadata": {},
   "outputs": [
    {
     "name": "stdout",
     "output_type": "stream",
     "text": [
      "                           Date/Time           Open           High  \\\n",
      "count                         125309  125309.000000  125309.000000   \n",
      "mean   2019-08-19 13:55:12.292173568      72.182052      72.372590   \n",
      "min              2018-02-28 09:15:00      44.430000      44.530000   \n",
      "25%              2018-11-15 11:10:00      64.600000      64.700000   \n",
      "50%              2019-09-05 09:51:00      72.800000      73.010000   \n",
      "75%              2020-05-11 14:22:00      80.160000      80.350000   \n",
      "max              2020-12-22 14:46:00     100.160000     100.160000   \n",
      "std                              NaN       9.900263       9.995786   \n",
      "\n",
      "                 Low          Close         Volume  Open Interest  \n",
      "count  125309.000000  125309.000000  125309.000000       125309.0  \n",
      "mean       72.042287      72.179371    3031.830451            0.0  \n",
      "min        44.040000      44.140000       1.000000            0.0  \n",
      "25%        64.570000      64.600000     220.000000            0.0  \n",
      "50%        72.640000      72.830000    1000.000000            0.0  \n",
      "75%        80.060000      80.160000    3130.000000            0.0  \n",
      "max       100.160000     100.160000  580730.000000            0.0  \n",
      "std         9.830847       9.899401    7248.952968            0.0  \n"
     ]
    }
   ],
   "source": [
    "print(df[df['Ticker'] == 'PNJ'].describe())"
   ]
  },
  {
   "cell_type": "markdown",
   "id": "3538463a-bcfc-49cf-9f0b-c88a6247451b",
   "metadata": {},
   "source": [
    "**3. Cổ phiếu PNJ:**\n",
    "\n",
    "Dựa vào bảng số liệu, ta có:\n",
    "- **Bản ghi**: 125309.\n",
    "- **Thời gian giao dịch (Date/Time):**\n",
    "    - **Giá trị trung bình:** Khoảng 19/08/2019 13:55:12 cho thấy thời điểm giao dịch trung bình.\n",
    "    - **Khoảng thời gian:** Từ 28/02/2018 đến 22/12/2020.\n",
    "    - **Phân vị:**\n",
    "      - 25%: 15/11/2018 11:10:00.\n",
    "      - 50% (median): 05/09/2019 09:51:00.\n",
    "      - 75%: 11/05/2020 14:22:00.\n",
    "    Điều này cho thấy dữ liệu giao dịch cổ phiếu PNJ trải dài khá đều trong khoảng thời gian đã cho.\n",
    "\n",
    "- **Các biến giá (Open, High, Low, Close)**:\n",
    "    - **Giá trị trung bình:**\n",
    "      - Open: 72.18.\n",
    "      - High: 72.37.\n",
    "      - Low: 72.04.\n",
    "      - Close: 72.18.\n",
    "    - **Khoảng giá**: Từ khoảng 44.04 đến 100.16.\n",
    "    - **Phân vị:**\n",
    "      - 25%: Khoảng 64.60 (Open), 64.70 (High), 64.57 (Low), 64.60 (Close).\n",
    "      - 50%: Khoảng 72.80 (Open), 73.01 (High), 72.64 (Low), 72.83 (Close).\n",
    "      - 75%: Khoảng 80.16 (Open), 80.35 (High), 80.06 (Low), 80.16 (Close).\n",
    "    - **Độ lệch chuẩn:** Xấp xỉ từ 9.90 đến 9.99 cho các biến giá.\n",
    "    Kết quả cho thấy phần lớn các giao dịch có mức giá giao dịch từ khoảng 64.6 đến 80.2 với mức biến động trung bình quanh 9.9 đơn vị so với giá trung bình.\n",
    "\n",
    "- **Khối lượng giao dịch (Volume):**\n",
    "    - **Giá trị trung bình:** 3031.83.\n",
    "    - **Khoảng Volume:** Từ 1 đến 580730.\n",
    "    - **Độ lệch chuẩn:** Rất cao, khoảng 7248.95.\n",
    "    - **Phân vị:**\n",
    "      - 25%: 220.\n",
    "      - 50%: 1000.\n",
    "      - 75%: 3130.\n",
    "    Điều này cho thấy khối lượng giao dịch có sự phân bố lệch phải (right-skewed): Phần lớn giao dịch có khối lượng từ thấp đến trung bình, nhưng lại tồn tại một số giao dịch có khối lượng rất cao.\n",
    "\n",
    "- **Open Interest:** Tất cả các bản ghi đều có giá trị bằng 0, điều này có thể cho thấy rằng feature này không có giá trị cho việc xây dựng mô hình dự đoán."
   ]
  },
  {
   "cell_type": "code",
   "execution_count": 23,
   "id": "d137c715-fbd2-4fdb-8683-2a5c841c1726",
   "metadata": {},
   "outputs": [
    {
     "name": "stdout",
     "output_type": "stream",
     "text": [
      "                           Date/Time           Open           High  \\\n",
      "count                         101266  101266.000000  101266.000000   \n",
      "mean   2019-12-05 15:50:51.577627392     105.376460     105.418519   \n",
      "min              2018-10-17 09:39:00      68.000000      68.000000   \n",
      "25%              2019-05-16 13:29:15      95.400000      95.400000   \n",
      "50%              2019-12-13 11:09:30     105.300000     105.300000   \n",
      "75%              2020-06-25 10:28:45     115.800000     115.900000   \n",
      "max              2020-12-22 14:46:00     126.100000     126.500000   \n",
      "std                              NaN      11.543158      11.535584   \n",
      "\n",
      "                 Low          Close        Volume  Open Interest  \n",
      "count  101266.000000  101266.000000  1.012660e+05       101266.0  \n",
      "mean      105.334147     105.378791  3.182640e+03            0.0  \n",
      "min        68.000000      68.000000  1.000000e+01            0.0  \n",
      "25%        95.300000      95.400000  2.300000e+02            0.0  \n",
      "50%       105.200000     105.300000  1.020000e+03            0.0  \n",
      "75%       115.800000     115.800000  3.000000e+03            0.0  \n",
      "max       126.100000     126.500000  1.468390e+06            0.0  \n",
      "std        11.552338      11.545054  1.469814e+04            0.0  \n"
     ]
    }
   ],
   "source": [
    "print(df[df['Ticker'] == 'VIC'].describe())"
   ]
  },
  {
   "cell_type": "markdown",
   "id": "84a18867-b617-4d30-90b8-2522eb9891cb",
   "metadata": {},
   "source": [
    "**4. Cổ phiếu VIC:**\n",
    "\n",
    "Dựa vào bảng số liệu, ta có:\n",
    "- **Bản ghi**: 101266.\n",
    "- **Thời gian giao dịch (Date/Time):**\n",
    "    - **Giá trị trung bình:** Khoảng 05/12/2019 15:50:51 cho thấy thời điểm giao dịch trung bình.\n",
    "    - **Khoảng thời gian:** Từ 17/10/2018 09:39:00 đến 22/12/2020 14:46:00.\n",
    "    - **Phân vị:**\n",
    "      - 25%: 16/05/2019 13:29:15.\n",
    "      - 50% (median): 13/12/2019 11:09:30.\n",
    "      - 75%: 25/06/2020 10:28:45.\n",
    "    Điều này cho thấy dữ liệu giao dịch cổ phiếu VIC được thu thập liên tục và phân bố đều trong khoảng thời gian đã cho.\n",
    "\n",
    "- **Các biến giá (Open, High, Low, Close)**:\n",
    "    - **Giá trị trung bình:**\n",
    "      - Open: 105.38.\n",
    "      - High: 105.42.\n",
    "      - Low: 105.33.\n",
    "      - Close: 105.38.\n",
    "    - **Khoảng giá**: Từ khoảng 68 đến 126.1 (với Open) và từ 68 đến 126.5 (với High, Close).\n",
    "    - **Phân vị:**\n",
    "      - 25%: Khoảng 95.4 (Open, High), 95.3 (Low) và 95.4 (Close).\n",
    "      - 50%: Khoảng 105.3 cho tất cả các biến.\n",
    "      - 75%: Khoảng 115.8 (Open, Low, Close) và 115.9 (High).\n",
    "    - **Độ lệch chuẩn:** Xấp xỉ 11.54 cho tất cả các biến giá.\n",
    "    Kết quả cho thấy phần lớn các giao dịch có mức giá giao dịch tập trung quanh 105 với độ biến động trung bình khoảng 11.54 đơn vị, và giá phân bố từ khoảng 95 đến 115 tại các phân vị chính.\n",
    "\n",
    "- **Khối lượng giao dịch (Volume):**\n",
    "    - **Giá trị trung bình:** 3182.64.\n",
    "    - **Khoảng Volume:** Từ 10 đến 1,468,390.\n",
    "    - **Độ lệch chuẩn:** Xấp xỉ 14698.14.\n",
    "    - **Phân vị:**\n",
    "      - 25%: 230.\n",
    "      - 50%: 1020.\n",
    "      - 75%: 3000.\n",
    "    Điều này cho thấy khối lượng giao dịch có sự phân bố lệch phải (right-skewed): phần lớn giao dịch có khối lượng từ thấp đến trung bình, nhưng tồn tại một số giao dịch có khối lượng rất cao.\n",
    "\n",
    "- **Open Interest:** Tất cả các bản ghi đều có giá trị bằng 0, điều này cho thấy rằng feature này không có giá trị cho việc xây dựng mô hình dự đoán.\n"
   ]
  },
  {
   "cell_type": "markdown",
   "id": "978d37c8-cfab-4446-b530-01c87d8930af",
   "metadata": {},
   "source": [
    "## 4.2 Trực quan hóa dữ liệu"
   ]
  },
  {
   "cell_type": "markdown",
   "id": "6f963060-1b2a-4eb4-ae75-a809f8701da1",
   "metadata": {},
   "source": [
    "Vì **giá đóng cửa** phản ánh \"kết thúc\" của một phiên giao dịch, khi tâm lý thị trường đã được thể hiện qua sự giao dịch trong ngày. Điều này giúp loại bỏ nhiễu loạn từ biến động ngắn hạn và cho phép theo dõi xu hướng của một cổ phiếu một cách rõ ràng hơn. Nên vì thế ta sẽ trực quan hóa giá đóng của 4 công ty."
   ]
  },
  {
   "cell_type": "code",
   "execution_count": 27,
   "id": "cdb46c70-fca2-4174-bcfb-f59251320ae1",
   "metadata": {},
   "outputs": [
    {
     "data": {
      "image/png": "[encoded data removed]",
      "text/plain": [
       "<Figure size 1200x600 with 1 Axes>"
      ]
     },
     "metadata": {},
     "output_type": "display_data"
    }
   ],
   "source": [
    "tickers = ['FPT', 'MSN', 'PNJ', 'VIC']\n",
    "\n",
    "plt.figure(figsize=(12,6))\n",
    "for ticker in df['Ticker'].unique():\n",
    "    subset = df[df['Ticker'] == ticker]\n",
    "    plt.plot(subset['Date/Time'], subset['Close'], label=ticker)\n",
    "plt.xlabel('Thời gian')\n",
    "plt.ylabel('Giá đóng')\n",
    "plt.title('Giá Đóng Của FPT, MSN, PNJ và VIC')\n",
    "plt.legend()\n",
    "plt.show()"
   ]
  },
  {
   "cell_type": "markdown",
   "id": "4e329d09-7ef9-4f7e-8600-4051c6011d23",
   "metadata": {},
   "source": [
    "Biểu đồ trên thể hiện **giá đóng cửa** (close) của bốn cổ phiếu FPT, MSN, PNJ và VIC trong giai đoạn từ khoảng **đầu năm 2018 đến đầu năm 2021**. Dưới đây là một số quan sát chung:\n",
    "\n",
    "1. **Xu hướng chung**  \n",
    "   - **FPT (màu xanh dương)**: Có xu hướng tăng khá đều từ năm 2018 đến 2021, với biên độ dao động không quá mạnh.  \n",
    "   - **MSN (màu cam)**: Từ giai đoạn 2018–2019 có mức giá tương đối cao, sau đó giảm trong năm 2019 và đặc biệt là giai đoạn đầu 2020. Tuy nhiên, cuối 2020 – đầu 2021 có dấu hiệu hồi phục.  \n",
    "   - **PNJ (màu xanh lá)**: Giữ mức giá khá cao trong năm 2018, dao động tương đối lớn. Tới năm 2020, giá giảm mạnh (phản ánh tác động chung của thị trường) và sau đó bắt đầu phục hồi.  \n",
    "   - **VIC (màu đỏ)**: Có mức giá cao nhất so với ba cổ phiếu còn lại. Trong năm 2018–2019, VIC tăng từ khoảng 70 lên trên 100, rồi dao động khá lớn trong năm 2020, nhưng cuối cùng vẫn duy trì trên ngưỡng 90–100.\n",
    "\n",
    "2. **Tác động của thị trường chung**  \n",
    "   - Bạn có thể thấy rõ cú giảm mạnh vào đầu năm 2020 (trùng với thời điểm thị trường toàn cầu chịu ảnh hưởng bởi đại dịch). Sau đó, các cổ phiếu này bắt đầu quá trình phục hồi dần vào nửa cuối năm 2020.\n",
    "\n",
    "3. **Biên độ dao động**  \n",
    "   - VIC và PNJ có biên độ dao động giá tương đối lớn trong giai đoạn này, trong khi FPT có xu hướng tăng ổn định hơn. MSN dao động mạnh trong năm 2019 và đặc biệt năm 2020.\n",
    "\n",
    "4. **Kết luận ban đầu**  \n",
    "   - Nhìn chung, biểu đồ cho thấy mỗi cổ phiếu có đặc thù biến động riêng, nhưng đều chịu ảnh hưởng rõ rệt từ biến động chung của thị trường (đặc biệt trong giai đoạn đầu 2020)."
   ]
  },
  {
   "cell_type": "markdown",
   "id": "af6f61c3-0368-4c90-a149-0d15636e45de",
   "metadata": {},
   "source": [
    "Ta sẽ tiến hành trực quan hóa sự phân phối của khối lượng giao dịch (Volume) theo thời gian. Nhưng vì thời gian của dữ liệu là theo từng phút (quá lớn) nên rất khó trực quan nên ta sẽ tiến hành resample dữ liệu lại theo tháng và tiến hành phân tích Volume của từng cổ phiếu."
   ]
  },
  {
   "cell_type": "code",
   "execution_count": 30,
   "id": "c94eb508-7979-4f4a-8ce2-903b152cf49d",
   "metadata": {},
   "outputs": [
    {
     "data": {
      "image/png": "[encoded data removed]",
      "text/plain": [
       "<Figure size 1400x700 with 1 Axes>"
      ]
     },
     "metadata": {},
     "output_type": "display_data"
    }
   ],
   "source": [
    "df_ticker = df[df['Ticker'] == 'FPT'].copy(deep=True)\n",
    "df_ticker.set_index('Date/Time', inplace=True)\n",
    "df_daily = df_ticker.resample('ME').sum()\n",
    "\n",
    "plt.figure(figsize=(14, 7))\n",
    "plt.bar(df_daily.index, df_daily['Volume'], width=10)\n",
    "plt.xlabel('Thời gian')\n",
    "plt.ylabel('Khối lượng giao dịch')\n",
    "plt.title(f'Biểu đồ khối lượng giao dịch hàng tháng cho FPT')\n",
    "plt.xticks(rotation=45)\n",
    "plt.show()"
   ]
  },
  {
   "cell_type": "markdown",
   "id": "2815ebc4-7409-4442-b4c3-41ac897e0f93",
   "metadata": {},
   "source": [
    "**Cổ phiếu FPT:**\n",
    "  \n",
    "Dựa trên biểu đồ, ta có nhận xét:\n",
    "\n",
    "1. **Xu hướng tăng dần qua các tháng:**\n",
    "    Nhìn vào biểu đồ ta có thể thấy được cổ phiếu FPT có xu hướng tăng dần từ đầu giai đoạn (tháng 01/2019) đến các tháng tiếp theo, thậm chí tới tháng 11/2020 (đỉnh điểm). Điều này cho thấy cổ phiếu FPT nhận được sự quan tâm từ các nhà đầu tư.\n",
    "2. **Mức độ biến động theo thời gian:**\n",
    "    - Trong những tháng đầu (từ tháng 01 trở đi) của các năm, thì khối lượng giao dịch bắt đầu tăng dân đều, cho thấy đà giao dịch được đẩy lên đều.\n",
    "    - Các tháng từ tháng 04 trở đi thì các giao dịch được đẩy mạnh hơn, và đỉnh điểm là giao dịch rất cao ở những dịp cuối năm, điều này có thể phản ánh các thời điểm thị trường phản ứng với tin tức của FPT. Nhưng qua năm mới (tức những tháng đầu) thì khối lượng bắt đầu giảm đáng kể so với cuối năm và lại bắt đầu tăng dần.\n",
    "3. **Khả năng duy trì thanh khoản:**\n",
    "    Khối lượng giao dịch cao và đều theo từng năm có thể phản ánh và cho thấy tính thanh khoản tốt của cổ phiếu FPT. Điều này thu hút cả nhà đầu tư ngắn hạn (lướt sóng) lẫn nhà đầu tư dài hạn, vì cổ phiếu có khả năng mua/bán dễ dàng.\n",
    "4. **Góc nhìn đầu tư:**\n",
    "    Khối lượng tăng dần và duy trì ở mức cao cho thấy FPT có sức hút tốt, và có thể kỳ vọng sự tích cưc của thị trường."
   ]
  },
  {
   "cell_type": "code",
   "execution_count": 32,
   "id": "b315f9e2-ac6d-4930-8b2a-4b9a22656ac4",
   "metadata": {},
   "outputs": [
    {
     "data": {
      "image/png": "[encoded data removed]",
      "text/plain": [
       "<Figure size 1400x700 with 1 Axes>"
      ]
     },
     "metadata": {},
     "output_type": "display_data"
    }
   ],
   "source": [
    "df_ticker = df[df['Ticker'] == 'MSN'].copy(deep=True)\n",
    "df_ticker.set_index('Date/Time', inplace=True)\n",
    "df_daily = df_ticker.resample('ME').sum()\n",
    "\n",
    "plt.figure(figsize=(14, 7))\n",
    "plt.bar(df_daily.index, df_daily['Volume'], width=10)\n",
    "plt.xlabel('Thời gian')\n",
    "plt.ylabel('Khối lượng giao dịch')\n",
    "plt.title(f'Biểu đồ khối lượng giao dịch hàng tháng cho MSN')\n",
    "plt.xticks(rotation=45)\n",
    "plt.show()"
   ]
  },
  {
   "cell_type": "markdown",
   "id": "8d541f48-b512-4395-aff9-7313d3c5243d",
   "metadata": {},
   "source": [
    "**Cổ phiếu MSN:**\n",
    "\n",
    "Dựa trên biểu đồ, ta có nhận xét:\n",
    "\n",
    "1. **Xu hướng khối lượng qua các năm:**\n",
    "    - Ta thấy từ các năm 2018 đến cuối 2019, cổ phiếu MSN có sự ổn định (thậm chí là giảm, không có sự tăng trưởng đáng kể). Điều này cho thấy thị trường có mức độ quan tâm vừa phải, thậm chí có 1 chút giảm với MSN.\n",
    "    - Đầu năm 2020 (tháng 01), khối lượng giao dịch đột nhiên tăng mạnh sau đó giảm mạnh xuống mức rấp thấp ở tháng 02, nhưng sau đó lại tăng mạnh, giảm nhẹ và tăng dần tới đỉnh điểm vào tháng 10 năm 2020. Điều này cho thấy thị trường bắt đầu quan tâm tới MSN, lý giải cho điều này có thể là do tin tức hay báo cáo tài chính đến từ MSN khiến các nhà đầu tư quan tâm mạnh hơn.\n",
    "2. **Duy trì thanh khoản:**\n",
    "   Khối lượng giao dịch của MSN cũng ở mức trung bình cao và đều đặn, không có quá nhiều sự đột biến. Cho thấy thanh khoản cũng đều đặn, thu hút các nhà đầu tư. "
   ]
  },
  {
   "cell_type": "code",
   "execution_count": 34,
   "id": "a8624f1d-5a92-464d-8fc2-ab3b45567d14",
   "metadata": {},
   "outputs": [
    {
     "data": {
      "image/png": "[encoded data removed]",
      "text/plain": [
       "<Figure size 1400x700 with 1 Axes>"
      ]
     },
     "metadata": {},
     "output_type": "display_data"
    }
   ],
   "source": [
    "df_ticker = df[df['Ticker'] == 'PNJ'].copy(deep=True)\n",
    "df_ticker.set_index('Date/Time', inplace=True)\n",
    "df_daily = df_ticker.resample('ME').sum()\n",
    "\n",
    "plt.figure(figsize=(14, 7))\n",
    "plt.bar(df_daily.index, df_daily['Volume'], width=10)\n",
    "plt.xlabel('Thời gian')\n",
    "plt.ylabel('Khối lượng giao dịch')\n",
    "plt.title(f'Biểu đồ khối lượng giao dịch hàng tháng cho PNJ')\n",
    "plt.xticks(rotation=45)\n",
    "plt.show()"
   ]
  },
  {
   "cell_type": "markdown",
   "id": "2dfc02d9-bc87-40c9-9570-7c67261c93cc",
   "metadata": {},
   "source": [
    "**Cổ phiếu PNJ:**\n",
    "\n",
    "1. **Xu hướng khối lượng qua các tháng:**\n",
    "    - Giữa 2018 đến giữa 2019: Khối lượng giao dịch có vẻ ổn định, không có mức dao động quá lớn hay đột biến đáng kể.\n",
    "    - Từ tháng 08/2019 trở đi: Khối lượng giao dịch đột nhiên tăng mạnh, và bắt đầu tăng dần từ đó trở đi. Cho thấy nhà đầu tư có thể quan tâm hơn đến PNJ nhiều hơn là năm 2018. Hay điều này có thể dính đến sản phẩm, hay thông tin tích cực đến từ PNJ.\n",
    "2. **Duy trì thanh khoản:**\n",
    "    - Trong suốt giai đoạn 2018-2021, khối lượng nhìn chung có xu hướng tăng, thể hiện cổ phiếu PNJ ngày càng được quan tâm, thanh khoản được cải thiện.\n",
    "    - Nếu sau những đột biến khối lượng, mức khối lượng vẫn cao thì chứng tỏ thị trường duy trì sự chú ý đến PNJ, giúp việc mua/bán cổ phiếu trở nên dễ dàng hơn (thanh khoản cao)."
   ]
  },
  {
   "cell_type": "code",
   "execution_count": 36,
   "id": "1926746a-90ca-47b9-a41b-114ea4b9e1a1",
   "metadata": {},
   "outputs": [
    {
     "data": {
      "image/png": "[encoded data removed]",
      "text/plain": [
       "<Figure size 1400x700 with 1 Axes>"
      ]
     },
     "metadata": {},
     "output_type": "display_data"
    }
   ],
   "source": [
    "df_ticker = df[df['Ticker'] == 'VIC'].copy(deep=True)\n",
    "df_ticker.set_index('Date/Time', inplace=True)\n",
    "df_daily = df_ticker.resample('ME').sum()\n",
    "\n",
    "plt.figure(figsize=(14, 7))\n",
    "plt.bar(df_daily.index, df_daily['Volume'], width=10)\n",
    "plt.xlabel('Thời gian')\n",
    "plt.ylabel('Khối lượng giao dịch')\n",
    "plt.title(f'Biểu đồ khối lượng giao dịch hàng tháng cho VIC')\n",
    "plt.xticks(rotation=45)\n",
    "plt.show()"
   ]
  },
  {
   "cell_type": "markdown",
   "id": "016b9447-3c4d-4511-86f3-0461816d9da4",
   "metadata": {},
   "source": [
    "**Cổ phiếu VIC:**\n",
    "\n",
    "1. **Xu hướng khối lượng:**\n",
    "    - Cuối năm 2018: Khối lượng tăng cao, cho thấy nhà đầu tư quan tâm đến VIC.\n",
    "    - Đầu năm 2019: Khối lượng giao dịch giảm hẳn và bắt đầu tăng dần đến đỉnh điểm (tháng 04/2019). Điều này cho thấy nhà đầu tư bắt đầu chú ý hơn, có thể do VIC công bố các dự án mới, kết quả kinh doanh tích cực hoặc những tin tức quan trọng về hoạt động kinh doanh. Nhưng sau đó sự quan tâm bắt đầu giảm dần khiến khối lượng giao dịch về đều như cũ.\n",
    "    - Đầu năm 2020 trở đi: Khối lượng giao dịch lúc này mới tăng mạnh và liên tục trong mấy tháng, bắt đầu giảm dần vào gần cuối năm nhưng sau đó lại tăng lại đáng kể. Những biến động này thường gắn liền với sự kiện lớn\n",
    "2. **Duy trì thanh khoản:**\n",
    "    - Nhìn chung, VIC có khối lượng giao dịch khá cao và ổn định trong suốt giai đoạn, chỉ có một số tháng giảm nhẹ, sau đó tăng trở lại. Điều này thể hiện cổ phiếu VIC có tính thanh khoản tốt, được nhiều nhà đầu tư quan tâm.\n",
    "    - Thanh khoản tốt giúp nhà đầu tư mua/bán dễ dàng, ít rủi ro bị trượt giá lớn khi có lệnh giao dịch khối lượng cao."
   ]
  },
  {
   "cell_type": "markdown",
   "id": "55534091-b159-4bcd-92c7-98e43b115d03",
   "metadata": {},
   "source": [
    "# **5. Feature Engineering**"
   ]
  },
  {
   "cell_type": "markdown",
   "id": "8ab6cb5b-da44-4dcf-b9c0-c38d512380f1",
   "metadata": {},
   "source": [
    "Vì toàn bộ giá trị của cột `Open Interest` đều là 0 và không có giá trị sử dụng để xây dựng mô hình nên ta sẽ bỏ luôn cột đó."
   ]
  },
  {
   "cell_type": "code",
   "execution_count": 40,
   "id": "f7afb2f2-a2f7-458d-bc7b-ba20969e2301",
   "metadata": {},
   "outputs": [],
   "source": [
    "df.drop('Open Interest', axis=1, inplace=True)"
   ]
  },
  {
   "cell_type": "markdown",
   "id": "7c45a51d-17db-47e0-a5ab-7ad4c51bef76",
   "metadata": {},
   "source": [
    "Vì ta xây dựng mô hình dự đoán biến động giá cổ phiếu N phút (N = 5) nên ta sẽ chuẩn hóa lại dữ liệu theo từng phút."
   ]
  },
  {
   "cell_type": "code",
   "execution_count": 42,
   "id": "a750209a-5a07-4622-a00e-13b807ee3cf6",
   "metadata": {},
   "outputs": [],
   "source": [
    "df.set_index('Date/Time', inplace=True)"
   ]
  },
  {
   "cell_type": "code",
   "execution_count": 43,
   "id": "bebee59c-345a-42d6-ab30-7df07f7a7e8c",
   "metadata": {},
   "outputs": [
    {
     "name": "stderr",
     "output_type": "stream",
     "text": [
      "C:\\Users\\nkluo\\AppData\\Local\\Temp\\ipykernel_11908\\2144698685.py:6: DeprecationWarning: DataFrameGroupBy.apply operated on the grouping columns. This behavior is deprecated, and in a future version of pandas the grouping columns will be excluded from the operation. Either pass `include_groups=False` to exclude the groupings or explicitly select the grouping columns after groupby to silence this warning.\n",
      "  df = df.groupby('Ticker', group_keys=False).apply(resample_and_fill)\n"
     ]
    }
   ],
   "source": [
    "def resample_and_fill(group):\n",
    "    group = group.resample('1min').asfreq()\n",
    "    group['Ticker'] = group['Ticker'].ffill()\n",
    "    return group\n",
    "\n",
    "df = df.groupby('Ticker', group_keys=False).apply(resample_and_fill)\n",
    "numeric_cols = ['Open', 'High', 'Low', 'Close', 'Volume']\n",
    "df[numeric_cols] = df.groupby('Ticker', group_keys=False)[numeric_cols].apply(lambda x: x.interpolate(method='linear'))"
   ]
  },
  {
   "cell_type": "code",
   "execution_count": 44,
   "id": "36757abf-1a5d-45ca-9440-5442c3264c71",
   "metadata": {},
   "outputs": [
    {
     "name": "stdout",
     "output_type": "stream",
     "text": [
      "Ticker    0\n",
      "Open      0\n",
      "High      0\n",
      "Low       0\n",
      "Close     0\n",
      "Volume    0\n",
      "dtype: int64\n"
     ]
    }
   ],
   "source": [
    "print(df.isnull().sum())"
   ]
  },
  {
   "cell_type": "markdown",
   "id": "d68cf1a5-7326-4bd7-8588-75c24ab331cc",
   "metadata": {},
   "source": [
    "Sau khi đã chuẩn hóa dữ liệu theo từng phút và nội suy dữ liệu (dự đoán) để có thể điền vào những đoạn dữ liệu không liên tục hay không đồng đều, thì ta sẽ tạo biến mục tiêu thể hiện biến động giá cổ phiếu (N = 5) phút."
   ]
  },
  {
   "cell_type": "code",
   "execution_count": 46,
   "id": "63a95b68-3714-49a9-8f7d-b292fe58f4a3",
   "metadata": {},
   "outputs": [
    {
     "data": {
      "text/plain": [
       "Date/Time\n",
       "2018-12-25 09:15:00   -0.150000\n",
       "2018-12-25 09:16:00   -0.150000\n",
       "2018-12-25 09:17:00   -0.079686\n",
       "2018-12-25 09:18:00   -0.079372\n",
       "2018-12-25 09:19:00   -0.079059\n",
       "                         ...   \n",
       "2020-12-22 14:42:00         NaN\n",
       "2020-12-22 14:43:00         NaN\n",
       "2020-12-22 14:44:00         NaN\n",
       "2020-12-22 14:45:00         NaN\n",
       "2020-12-22 14:46:00         NaN\n",
       "Name: Target, Length: 5251544, dtype: float64"
      ]
     },
     "execution_count": 46,
     "metadata": {},
     "output_type": "execute_result"
    }
   ],
   "source": [
    "N = 5\n",
    "df['Target'] = df.groupby('Ticker')['Close'].shift(-N) - df['Close']\n",
    "df['Target']"
   ]
  },
  {
   "cell_type": "code",
   "execution_count": 47,
   "id": "b30e413f-17b6-4407-88b7-830eb907a59c",
   "metadata": {},
   "outputs": [
    {
     "data": {
      "text/plain": [
       "Ticker     0\n",
       "Open       0\n",
       "High       0\n",
       "Low        0\n",
       "Close      0\n",
       "Volume     0\n",
       "Target    20\n",
       "dtype: int64"
      ]
     },
     "execution_count": 47,
     "metadata": {},
     "output_type": "execute_result"
    }
   ],
   "source": [
    "df.isnull().sum()"
   ]
  },
  {
   "cell_type": "markdown",
   "id": "d6a5170f-7e2b-4337-b97b-23a5adde5e77",
   "metadata": {},
   "source": [
    "Vì số lượng null quá ít $20/5251544 \\approx 3.808*10^-6 (\\%)$, nên ta sẽ loại bỏ 20 dòng này."
   ]
  },
  {
   "cell_type": "code",
   "execution_count": 49,
   "id": "ac3b0548-886c-4e2d-b70d-9cdbed07c36f",
   "metadata": {},
   "outputs": [
    {
     "data": {
      "text/plain": [
       "Ticker    0\n",
       "Open      0\n",
       "High      0\n",
       "Low       0\n",
       "Close     0\n",
       "Volume    0\n",
       "Target    0\n",
       "dtype: int64"
      ]
     },
     "execution_count": 49,
     "metadata": {},
     "output_type": "execute_result"
    }
   ],
   "source": [
    "df.dropna(inplace=True)\n",
    "df.isnull().sum()"
   ]
  },
  {
   "cell_type": "markdown",
   "id": "9e58192a-70f1-4ca6-bf52-a97c9549a14b",
   "metadata": {},
   "source": [
    "Ta sẽ tiến hành tính `Range`, tức phạm vi giá của cổ phiếu."
   ]
  },
  {
   "cell_type": "code",
   "execution_count": 51,
   "id": "f884b1b7-8fce-43ad-9342-95df8a2577d6",
   "metadata": {},
   "outputs": [
    {
     "name": "stdout",
     "output_type": "stream",
     "text": [
      "Date/Time\n",
      "2018-12-25 09:15:00    0.00\n",
      "2018-12-25 09:16:00    0.00\n",
      "2018-12-25 09:17:00    0.07\n",
      "2018-12-25 09:18:00    0.00\n",
      "2018-12-25 09:19:00    0.00\n",
      "                       ... \n",
      "2020-12-22 14:37:00    0.00\n",
      "2020-12-22 14:38:00    0.00\n",
      "2020-12-22 14:39:00    0.00\n",
      "2020-12-22 14:40:00    0.00\n",
      "2020-12-22 14:41:00    0.00\n",
      "Name: Range, Length: 5251524, dtype: float64\n"
     ]
    }
   ],
   "source": [
    "df['Range'] = df['High'] - df['Low']\n",
    "print(df['Range'])"
   ]
  },
  {
   "cell_type": "markdown",
   "id": "c9fc0dd5-c63f-4786-b109-2d6a9a0eb41f",
   "metadata": {},
   "source": [
    "Sau đó, ta cũng tiến hành tính được lợi nhuận từng phút."
   ]
  },
  {
   "cell_type": "code",
   "execution_count": 53,
   "id": "076849b3-6777-4817-84b4-3868d1c52366",
   "metadata": {},
   "outputs": [
    {
     "name": "stdout",
     "output_type": "stream",
     "text": [
      "Date/Time\n",
      "2018-12-25 09:15:00         NaN\n",
      "2018-12-25 09:16:00   -0.002590\n",
      "2018-12-25 09:17:00   -0.002272\n",
      "2018-12-25 09:18:00    0.000000\n",
      "2018-12-25 09:19:00    0.000000\n",
      "                         ...   \n",
      "2020-12-22 14:37:00    0.000000\n",
      "2020-12-22 14:38:00    0.000000\n",
      "2020-12-22 14:39:00    0.000000\n",
      "2020-12-22 14:40:00    0.000000\n",
      "2020-12-22 14:41:00    0.000000\n",
      "Name: Return, Length: 5251524, dtype: float64\n"
     ]
    }
   ],
   "source": [
    "df['Return'] = df.groupby('Ticker')['Close'].transform(lambda x: x.pct_change())\n",
    "print(df['Return'])"
   ]
  },
  {
   "cell_type": "code",
   "execution_count": 54,
   "id": "da87febd-1218-4bd7-ba14-f854458881ec",
   "metadata": {},
   "outputs": [
    {
     "data": {
      "text/plain": [
       "Ticker    0\n",
       "Open      0\n",
       "High      0\n",
       "Low       0\n",
       "Close     0\n",
       "Volume    0\n",
       "Target    0\n",
       "Range     0\n",
       "Return    4\n",
       "dtype: int64"
      ]
     },
     "execution_count": 54,
     "metadata": {},
     "output_type": "execute_result"
    }
   ],
   "source": [
    "df.isnull().sum()"
   ]
  },
  {
   "cell_type": "markdown",
   "id": "33836ed4-e50b-474f-933a-efa520773342",
   "metadata": {},
   "source": [
    "Ta thấy có 4 dòng là bị giá trị null, 4 dòng này chính là nơi bắt đầu của data của mỗi cổ phiếu, nên ta có thể gán 4 dòng này với giá trị là 0 cho đơn giản."
   ]
  },
  {
   "cell_type": "code",
   "execution_count": 56,
   "id": "60ad2b69-9bb1-4c3b-b799-4792964feecf",
   "metadata": {},
   "outputs": [],
   "source": [
    "df.fillna(0.0, inplace=True)"
   ]
  },
  {
   "cell_type": "markdown",
   "id": "7479136b-104d-4c83-9334-de19bfe17a9e",
   "metadata": {},
   "source": [
    "Ta sẽ tạo thêm một feature nữa là trung bình động 5 (Moving Average 5), tức là tính trung bình giá đóng cửa 5 phiên gần nhất."
   ]
  },
  {
   "cell_type": "code",
   "execution_count": 58,
   "id": "c1300062-8709-485f-8cdc-e1a9474d17f3",
   "metadata": {},
   "outputs": [
    {
     "name": "stdout",
     "output_type": "stream",
     "text": [
      "Date/Time\n",
      "2018-12-25 09:15:00        NaN\n",
      "2018-12-25 09:16:00        NaN\n",
      "2018-12-25 09:17:00        NaN\n",
      "2018-12-25 09:18:00        NaN\n",
      "2018-12-25 09:19:00     30.784\n",
      "                        ...   \n",
      "2020-12-22 14:37:00    105.700\n",
      "2020-12-22 14:38:00    105.700\n",
      "2020-12-22 14:39:00    105.700\n",
      "2020-12-22 14:40:00    105.700\n",
      "2020-12-22 14:41:00    105.700\n",
      "Name: MA_5, Length: 5251524, dtype: float64\n",
      "Ticker     0\n",
      "Open       0\n",
      "High       0\n",
      "Low        0\n",
      "Close      0\n",
      "Volume     0\n",
      "Target     0\n",
      "Range      0\n",
      "Return     0\n",
      "MA_5      16\n",
      "dtype: int64\n"
     ]
    }
   ],
   "source": [
    "df['MA_5'] = df.groupby('Ticker')['Close'].transform(lambda x: x.rolling(window=5).mean())\n",
    "print(df['MA_5'])\n",
    "print(df.isnull().sum())"
   ]
  },
  {
   "cell_type": "markdown",
   "id": "20bcb4b3-9e25-43fa-9397-b8dbaeab867e",
   "metadata": {},
   "source": [
    "Vì là MA_5 nên khi tính thì 4 giá trị đầu sẽ là NaN, để đơn giản hóa vấn đề ta sẽ dùng phương pháp forward fill để điền vào các ô có giá trị NaN."
   ]
  },
  {
   "cell_type": "code",
   "execution_count": 60,
   "id": "72bcd155-b34b-4a31-8dc6-9010cb8b8733",
   "metadata": {},
   "outputs": [
    {
     "name": "stderr",
     "output_type": "stream",
     "text": [
      "C:\\Users\\nkluo\\AppData\\Local\\Temp\\ipykernel_11908\\3964524321.py:1: FutureWarning: DataFrame.fillna with 'method' is deprecated and will raise in a future version. Use obj.ffill() or obj.bfill() instead.\n",
      "  df.fillna(method='ffill', inplace=True)\n",
      "C:\\Users\\nkluo\\AppData\\Local\\Temp\\ipykernel_11908\\3964524321.py:2: FutureWarning: DataFrame.fillna with 'method' is deprecated and will raise in a future version. Use obj.ffill() or obj.bfill() instead.\n",
      "  df.fillna(method='bfill', inplace=True)\n"
     ]
    }
   ],
   "source": [
    "df.fillna(method='ffill', inplace=True)\n",
    "df.fillna(method='bfill', inplace=True)"
   ]
  },
  {
   "cell_type": "code",
   "execution_count": 61,
   "id": "d6343713-5bf6-4383-9786-62985fdebb17",
   "metadata": {},
   "outputs": [
    {
     "data": {
      "text/plain": [
       "Ticker    0\n",
       "Open      0\n",
       "High      0\n",
       "Low       0\n",
       "Close     0\n",
       "Volume    0\n",
       "Target    0\n",
       "Range     0\n",
       "Return    0\n",
       "MA_5      0\n",
       "dtype: int64"
      ]
     },
     "execution_count": 61,
     "metadata": {},
     "output_type": "execute_result"
    }
   ],
   "source": [
    "df.isnull().sum()"
   ]
  },
  {
   "cell_type": "markdown",
   "id": "a0881a1b-3784-4a1c-9220-9b1964148776",
   "metadata": {},
   "source": [
    "Ta sẽ tiến hành biến cột `Ticker` thành dạng số bằng phương pháp LabelEncoder, biến thành 0, 1, 2..."
   ]
  },
  {
   "cell_type": "code",
   "execution_count": 63,
   "id": "3d48c70f-0427-4403-bca2-d4bb8d160079",
   "metadata": {},
   "outputs": [],
   "source": [
    "le = LabelEncoder()\n",
    "df[\"Ticker_encoded\"] = le.fit_transform(df[\"Ticker\"])"
   ]
  },
  {
   "cell_type": "code",
   "execution_count": 64,
   "id": "b6db1cb4-3639-4ccb-b93c-31a7534a7946",
   "metadata": {},
   "outputs": [
    {
     "data": {
      "text/plain": [
       "Ticker            0\n",
       "Open              0\n",
       "High              0\n",
       "Low               0\n",
       "Close             0\n",
       "Volume            0\n",
       "Target            0\n",
       "Range             0\n",
       "Return            0\n",
       "MA_5              0\n",
       "Ticker_encoded    0\n",
       "dtype: int64"
      ]
     },
     "execution_count": 64,
     "metadata": {},
     "output_type": "execute_result"
    }
   ],
   "source": [
    "df.isnull().sum()"
   ]
  },
  {
   "cell_type": "markdown",
   "id": "0641a7d9-b0e1-4852-a27c-320b59b59117",
   "metadata": {},
   "source": [
    "# **6. Xây Dựng Mô Hình**"
   ]
  },
  {
   "cell_type": "markdown",
   "id": "1a0e643f-a225-4208-9599-83b1dd720bb8",
   "metadata": {},
   "source": [
    "## 6.1 Chia tập dữ liệu"
   ]
  },
  {
   "cell_type": "markdown",
   "id": "f30a3030-6a50-4fec-94c9-dc9bf9f48162",
   "metadata": {},
   "source": [
    "Đầu tiên ta sẽ chia tập dữ liệu theo tỷ lệ $80:20$."
   ]
  },
  {
   "cell_type": "code",
   "execution_count": 68,
   "id": "43454362-4087-44aa-9230-2c4f38dde534",
   "metadata": {},
   "outputs": [],
   "source": [
    "X = df.drop(['Target', 'Ticker'], axis=1)\n",
    "y = df['Target']\n",
    "X_train, X_test, y_train, y_test = train_test_split(X, y, test_size=0.2, random_state=42)"
   ]
  },
  {
   "cell_type": "markdown",
   "id": "ec78c475-82de-42ee-88c6-6bec15e5a55d",
   "metadata": {},
   "source": [
    "## 6.2 Mô hình Hồi Quy Tuyến Tính"
   ]
  },
  {
   "cell_type": "markdown",
   "id": "b14a106b-0ba3-46e3-9735-760432f99b9b",
   "metadata": {},
   "source": [
    "Đầu tiên ta sẽ xây dựng mô hình **Hồi Quy Tuyến Tính cơ bản (Linear Regression)**."
   ]
  },
  {
   "cell_type": "code",
   "execution_count": 71,
   "id": "cdc0b49b-5084-4755-a02a-62eb68e00fc5",
   "metadata": {},
   "outputs": [
    {
     "name": "stdout",
     "output_type": "stream",
     "text": [
      "Hồi quy tuyến tính:\n",
      "MAE: 0.027335423074266552\n",
      "RMSE: 0.12393143278157896\n"
     ]
    },
    {
     "name": "stderr",
     "output_type": "stream",
     "text": [
      "C:\\Users\\nkluo\\anaconda3\\Lib\\site-packages\\sklearn\\metrics\\_regression.py:492: FutureWarning: 'squared' is deprecated in version 1.4 and will be removed in 1.6. To calculate the root mean squared error, use the function'root_mean_squared_error'.\n",
      "  warnings.warn(\n"
     ]
    }
   ],
   "source": [
    "model_lr = LinearRegression()\n",
    "model_lr.fit(X_train, y_train)\n",
    "y_pred_lr = model_lr.predict(X_test)\n",
    "\n",
    "print(\"Hồi quy tuyến tính:\")\n",
    "print(\"MAE:\", mean_absolute_error(y_test, y_pred_lr))\n",
    "print(\"RMSE:\", mean_squared_error(y_test, y_pred_lr, squared=False))"
   ]
  },
  {
   "cell_type": "markdown",
   "id": "b2549ed2-384c-4dad-80c9-47d3564654be",
   "metadata": {},
   "source": [
    " Mô hình **Hồi Quy Tuyến Tính** đạt được các kết quả sau:  \n",
    "- **MAE = 0.0273**: Trung bình sai số tuyệt đối giữa giá dự đoán và giá thực tế là 0.0273.  \n",
    "- **RMSE = 0.1239**: Sai số trung bình bình phương gốc cho thấy mức độ phân tán của lỗi dự đoán.  \n",
    "\n",
    "**Đánh giá:**  \n",
    "- Với dữ liệu tài chính, MAE thấp cho thấy mô hình dự đoán khá chính xác, nhưng RMSE vẫn có khoảng chênh lệch đáng kể, có thể bị ảnh hưởng bởi một số dự đoán sai lệch lớn.  \n",
    "- Do cổ phiếu có tính biến động cao trong thời gian ngắn, hồi quy tuyến tính có thể chưa đủ mạnh để nắm bắt các xu hướng phi tuyến phức tạp.\n",
    "\n",
    "Việc sử dụng các **mô hình phi tuyến** có thể giúp cải thiện khả năng dự báo, đặc biệt là đối với các biến động bất thường."
   ]
  },
  {
   "cell_type": "markdown",
   "id": "7e4f5931-aef9-4bfc-978a-ca0dffaefff0",
   "metadata": {},
   "source": [
    "## 6.3 Mô hình phi tuyến tính Hist Gradient Boosting Regressor"
   ]
  },
  {
   "cell_type": "markdown",
   "id": "78ddfe83-9f4c-4a46-90dd-97c3cd6e2d11",
   "metadata": {},
   "source": [
    "Sau khi thử nghiệm với mô hình tuyến tính ta sẽ thử mô hình phi tuyến tính xem sao."
   ]
  },
  {
   "cell_type": "code",
   "execution_count": 75,
   "id": "91a643b7-981a-49b0-b687-c858cae6e1f6",
   "metadata": {},
   "outputs": [
    {
     "name": "stdout",
     "output_type": "stream",
     "text": [
      "Gradient Boosting Regressor:\n",
      "MAE: 0.02249847058921263\n",
      "RMSE: 0.12345269886526641\n"
     ]
    },
    {
     "name": "stderr",
     "output_type": "stream",
     "text": [
      "C:\\Users\\nkluo\\anaconda3\\Lib\\site-packages\\sklearn\\metrics\\_regression.py:492: FutureWarning: 'squared' is deprecated in version 1.4 and will be removed in 1.6. To calculate the root mean squared error, use the function'root_mean_squared_error'.\n",
      "  warnings.warn(\n"
     ]
    }
   ],
   "source": [
    "model_hgb = HistGradientBoostingRegressor(random_state=42)\n",
    "model_hgb.fit(X_train, y_train)\n",
    "y_pred_hgb = model_hgb.predict(X_test)\n",
    "\n",
    "print(\"Gradient Boosting Regressor:\")\n",
    "print(\"MAE:\", mean_absolute_error(y_test, y_pred_hgb))\n",
    "print(\"RMSE:\", mean_squared_error(y_test, y_pred_hgb, squared=False))"
   ]
  },
  {
   "cell_type": "markdown",
   "id": "4b4128ce-c8ab-4f84-8fad-77e7117c369b",
   "metadata": {},
   "source": [
    "**Kết luận:**\n",
    "\n",
    "Mô hình **Gradient Boosting Regressor** cho **MAE** thấp hơn so với mô hình **Hồi quy tuyến tính** (**0.0225** so với **0.0273**), điều này cho thấy trung bình dự báo sai số nhỏ hơn. Tuy nhiên, **RMSE** vẫn tương đối cao **(0.12345)**, chỉ ra rằng mặc dù đa số các dự báo có sai số nhỏ, vẫn có một số trường hợp dự báo lệch lớn. Điều này phản ánh tính biến động phi tuyến và khó lường của dữ liệu chứng khoán. Do đó, mô hình này cho thấy một bước tiến nhỏ trong việc cải thiện độ chính xác trung bình nhưng vẫn cần phải giải quyết vấn đề sai số lớn trong một số trường hợp, có thể thông qua việc tối ưu hoá thêm hoặc kết hợp với các mô hình khác (ensemble) để đạt được kết quả dự báo ổn định hơn."
   ]
  },
  {
   "cell_type": "markdown",
   "id": "f0f1a232-fcef-4a77-9566-1405c651358d",
   "metadata": {},
   "source": [
    "## 6.4 Mô hình XGBoost Regressor"
   ]
  },
  {
   "cell_type": "markdown",
   "id": "1969e2a4-e3f3-4465-ba67-57e5ff3fc30b",
   "metadata": {},
   "source": [
    "Ta sẽ thử với mô hình XGBoost Regressor."
   ]
  },
  {
   "cell_type": "code",
   "execution_count": 79,
   "id": "8270fd73-e71e-4513-97b8-8b41ff950737",
   "metadata": {},
   "outputs": [
    {
     "name": "stdout",
     "output_type": "stream",
     "text": [
      "XGBoost Regressor:\n",
      "MAE: 0.022904168997660887\n",
      "RMSE: 0.12065985947305252\n"
     ]
    },
    {
     "name": "stderr",
     "output_type": "stream",
     "text": [
      "C:\\Users\\nkluo\\anaconda3\\Lib\\site-packages\\sklearn\\metrics\\_regression.py:492: FutureWarning: 'squared' is deprecated in version 1.4 and will be removed in 1.6. To calculate the root mean squared error, use the function'root_mean_squared_error'.\n",
      "  warnings.warn(\n"
     ]
    }
   ],
   "source": [
    "model_xgb = xgb.XGBRegressor(objective='reg:squarederror', n_estimators=100, random_state=42)\n",
    "model_xgb.fit(X_train, y_train)\n",
    "y_pred_xgb = model_xgb.predict(X_test)\n",
    "\n",
    "print(\"XGBoost Regressor:\")\n",
    "print(\"MAE:\", mean_absolute_error(y_test, y_pred_xgb))\n",
    "print(\"RMSE:\", mean_squared_error(y_test, y_pred_xgb, squared=False))"
   ]
  },
  {
   "cell_type": "markdown",
   "id": "682e6747-6354-4a9d-9b71-0ecf5f0178a0",
   "metadata": {},
   "source": [
    "**Kết luận:**\n",
    "\n",
    "Mô hình **XGBoost Regressor** cho **MAE** ở mức khoảng **0.0229**, cho thấy sai số trung bình của các dự báo là tương đối thấp. **RMSE** là **0.12066**, thấp hơn một chút so với một số mô hình khác, chỉ ra rằng sự phân bố của các lỗi dự báo có xu hướng ổn định hơn và các sai số lớn có thể đã được giảm thiểu. Như vậy, **XGBoost Regressor** cho kết quả dự báo tương đối tốt cho bài toán dự đoán biến động giá cổ phiếu, đặc biệt khi so sánh với các mô hình khác như **Hồi quy tuyến tính** và **Gradient Boosting (HistGBR)**. Tuy nhiên, vẫn cần chú ý đến các trường hợp dự báo lệch lớn (được thể hiện qua **RMSE**), nên có thể xem xét việc tối ưu thêm hoặc **kết hợp** với các mô hình khác (ensemble) nhằm nâng cao hiệu quả dự báo tổng thể."
   ]
  },
  {
   "cell_type": "markdown",
   "id": "2afcbd2a-acad-4d20-8285-c149845fe356",
   "metadata": {},
   "source": [
    "## 6.5 Xây dựng Stacking Ensemble"
   ]
  },
  {
   "cell_type": "markdown",
   "id": "d33aa7a8-cba4-46b2-b958-4cd1bfab45f9",
   "metadata": {},
   "source": [
    "Ở đây, chúng ta kết hợp các mô hình cơ sở đã huấn luyện bằng một meta-model (Linear Regression) sử dụng kỹ thuật stacking."
   ]
  },
  {
   "cell_type": "code",
   "execution_count": 83,
   "id": "4acfee6a-928f-40fa-9a31-1ad0b49ebdc8",
   "metadata": {},
   "outputs": [
    {
     "name": "stdout",
     "output_type": "stream",
     "text": [
      "Stacking Ensemble Model:\n",
      "MAE: 0.0237795921604969\n",
      "RMSE: 0.11954734478151294\n"
     ]
    },
    {
     "name": "stderr",
     "output_type": "stream",
     "text": [
      "C:\\Users\\nkluo\\anaconda3\\Lib\\site-packages\\sklearn\\metrics\\_regression.py:492: FutureWarning: 'squared' is deprecated in version 1.4 and will be removed in 1.6. To calculate the root mean squared error, use the function'root_mean_squared_error'.\n",
      "  warnings.warn(\n"
     ]
    }
   ],
   "source": [
    "base_models = [\n",
    "    ('lr', model_lr),\n",
    "    ('hgb', model_hgb),\n",
    "    ('xgb', model_xgb)\n",
    "]\n",
    "\n",
    "meta_model = LinearRegression()\n",
    "stacking_reg = StackingRegressor(\n",
    "    estimators=base_models,\n",
    "    final_estimator=meta_model,\n",
    "    cv=5\n",
    ")\n",
    "\n",
    "stacking_reg.fit(X_train, y_train)\n",
    "y_pred_stack = stacking_reg.predict(X_test)\n",
    "\n",
    "print(\"Stacking Ensemble Model:\")\n",
    "print(\"MAE:\", mean_absolute_error(y_test, y_pred_stack))\n",
    "print(\"RMSE:\", mean_squared_error(y_test, y_pred_stack, squared=False))"
   ]
  },
  {
   "cell_type": "markdown",
   "id": "d08e6693-2a88-4843-8fe5-e45fa1735fb1",
   "metadata": {},
   "source": [
    "Mô hình **Stacking Ensemble** đạt kết quả sau:\n",
    "\n",
    "- **MAE:** 0.02378  \n",
    "- **RMSE:** 0.11955\n",
    "\n",
    "**Kết luận:**\n",
    "\n",
    "- **Độ chính xác:**  \n",
    "  Mô hình Stacking Ensemble cho sai số trung bình (MAE) khoảng 0.02378, tương đương với sai số trung bình khá thấp so với giá trị của biến mục tiêu (đã được chuẩn hóa hoặc tính theo tỷ lệ phần trăm). \n",
    "\n",
    "- **Hiệu quả xử lý các sai số lớn:**  \n",
    "  Với RMSE là 0.11955, mô hình này đã giảm được các trường hợp sai lệch lớn so với một số mô hình đơn lẻ (so với XGBoost hoặc HistGBR riêng lẻ). Điều này cho thấy việc kết hợp các dự báo từ nhiều mô hình cơ sở đã giúp tăng cường khả năng dự báo ổn định hơn, đặc biệt đối với các biến động phi tuyến hoặc những trường hợp ngoại lệ.\n",
    "\n",
    "- **Nhận xét chung:**  \n",
    "  Mặc dù MAE của Stacking Ensemble hơi cao so với XGBoost (0.02290) nhưng RMSE thấp hơn, điều này cho thấy mô hình ensemble có khả năng giảm thiểu tác động của những sai số lớn. Đây là một kết quả khả quan cho bài toán dự báo biến động giá cổ phiếu, đồng thời mở ra hướng tối ưu hoá thêm bằng cách điều chỉnh các siêu tham số của các mô hình cơ sở và meta-model.\n",
    "\n",
    "Như vậy, mô hình Stacking Ensemble đã đạt được hiệu suất dự báo tốt trong việc dự đoán biến động giá cổ phiếu, với khả năng tổng hợp điểm mạnh của các mô hình đơn lẻ để giảm các sai số bất thường."
   ]
  }
 ],
 "metadata": {
  "kernelspec": {
   "display_name": "Python [conda env:base] *",
   "language": "python",
   "name": "conda-base-py"
  },
  "language_info": {
   "codemirror_mode": {
    "name": "ipython",
    "version": 3
   },
   "file_extension": ".py",
   "mimetype": "text/x-python",
   "name": "python",
   "nbconvert_exporter": "python",
   "pygments_lexer": "ipython3",
   "version": "3.12.7"
  }
 },
 "nbformat": 4,
 "nbformat_minor": 5
}
